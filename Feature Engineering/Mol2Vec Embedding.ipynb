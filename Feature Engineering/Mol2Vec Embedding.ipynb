{
 "cells": [
  {
   "cell_type": "code",
   "execution_count": null,
   "id": "7df36960-0e11-4bec-b841-87e07cb4570f",
   "metadata": {},
   "outputs": [],
   "source": [
    "!pip install rdkit-pypi\n",
    "!pip install pandas==0.23.0\n",
    "%matplotlib inline\n",
    "\n",
    "import numpy as np\n",
    "import pandas as pd\n",
    "import matplotlib.pyplot as plt\n",
    "import warnings\n",
    "warnings.filterwarnings(\"ignore\")\n",
    "\n",
    "!pip install git+https://github.com/samoturk/mol2vec;"
   ]
  },
  {
   "cell_type": "code",
   "execution_count": null,
   "id": "231263c3-dd90-4684-83a9-bb4c1090a0e5",
   "metadata": {},
   "outputs": [],
   "source": [
    "import pandas as pd\n",
    "# นำเข้าข้อมูล\n",
    "mdf = pd.read_csv('Drug_FDA_2025.csv')\n",
    "\n",
    "smiles = mdf['SMILES'].values\n",
    "\n"
   ]
  },
  {
   "cell_type": "code",
   "execution_count": null,
   "id": "fc62c0f9-879b-4eef-ade6-68659b7d10f6",
   "metadata": {},
   "outputs": [],
   "source": [
    "# Dim 100ฝ300 ผ่านแล้ว\n",
    "import numpy as np\n",
    "import pandas as pd\n",
    "from mol2vec.features import mol2alt_sentence, MolSentence, sentences2vec\n",
    "from gensim.models import Word2Vec\n",
    "from rdkit import Chem  # Import the Chem module\n",
    "\n",
    "# Change to the 100-dimensional Mol2Vec model \n",
    "model = Word2Vec.load(\"mlchem/model_300dim.pkl\") # \n",
    "mdf['mol'] = mdf['Smiles'].apply(lambda x: Chem.MolFromSmiles(x))\n",
    "\n",
    "# Replace 'model.wv.vocab' with 'model.wv.key_to_index'\n",
    "def sentences2vec_updated(sentences, model, unseen='UNK'):\n",
    "    keys = set(model.wv.key_to_index.keys())\n",
    "    vec = []\n",
    "    for word in sentences:\n",
    "        if word in keys:\n",
    "            vec.append(model.wv[word])\n",
    "        else:\n",
    "            vec.append(model.wv[unseen])\n",
    "    return np.array(vec)  # Convert the list to a numpy array\n",
    "\n",
    "# Function to apply Mol2Vec to the entire DataFrame and save to CSV\n",
    "def save_mol2vec_features(mdf, model, output_csv='mol2vec_features.csv'):\n",
    "    features = []\n",
    "    for idx, row in mdf.iterrows():\n",
    "        # Convert SMILES to Mol object\n",
    "        mol_sentence = mol2alt_sentence(row['mol'], radius=9) # Change Radius 0-9\n",
    "        sentence_obj = MolSentence(mol_sentence)\n",
    "        \n",
    "        # Get the Mol2Vec feature vector for the sentence\n",
    "        vector = sentences2vec_updated(sentence_obj, model, unseen='UNK')\n",
    "        \n",
    "        # No need to truncate or pad if you're using the 100-dimensional Mol2Vec model\n",
    "        # Perform averaging across the word vectors to create a single vector\n",
    "        vector = np.mean(vector, axis=0)\n",
    "\n",
    "        # Flatten the vector into a 1D array\n",
    "        features.append(vector.flatten())  # Flatten to a 1D array for each molecule\n",
    "    \n",
    "    # Convert list of feature vectors into a DataFrame\n",
    "    feature_df = pd.DataFrame(features)\n",
    "    \n",
    "    # Save the DataFrame to a CSV file\n",
    "    feature_df = pd.concat([feature_df, y_df], axis=1)\n",
    "    feature_df.to_csv(output_csv, index=True)\n",
    "    print(f\"Mol2Vec features saved to {output_csv}\")\n",
    "\n",
    "# Assuming 'mdf' is your DataFrame and it has a 'mol' column with SMILES strings\n",
    "# Apply the function to save features to CSV\n",
    "\n",
    "save_mol2vec_features(mdf, model, output_csv='R9D300.csv')  # Using the 100-dimensional model\n"
   ]
  }
 ],
 "metadata": {
  "kernelspec": {
   "display_name": "Python 3 (ipykernel)",
   "language": "python",
   "name": "python3"
  },
  "language_info": {
   "codemirror_mode": {
    "name": "ipython",
    "version": 3
   },
   "file_extension": ".py",
   "mimetype": "text/x-python",
   "name": "python",
   "nbconvert_exporter": "python",
   "pygments_lexer": "ipython3",
   "version": "3.8.20"
  }
 },
 "nbformat": 4,
 "nbformat_minor": 5
}
